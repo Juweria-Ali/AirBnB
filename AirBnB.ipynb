{
 "cells": [
  {
   "cell_type": "markdown",
   "id": "447fc9dd",
   "metadata": {},
   "source": [
    "#### Note: The workbook contains transformations and my interpretation of the data. To clarify the steps taken, a PowerPoint presentation has been put together separately."
   ]
  },
  {
   "cell_type": "markdown",
   "id": "a853d5bb",
   "metadata": {},
   "source": [
    "#### Loading the three datasets"
   ]
  },
  {
   "cell_type": "code",
   "execution_count": 2,
   "id": "cc47455b",
   "metadata": {},
   "outputs": [],
   "source": [
    "import pandas as pds   # Pandas is the library that is used for exploration and manipulation for the majority of the study.\n",
    "\n",
    "Airbnb = pds.read_csv('Airbnb_data_New_York.csv')\n",
    "Sales = pds.read_csv('Property_sales_data_New_York.csv')\n",
    "Weather = pds.read_excel('Weather Data.xlsx')"
   ]
  },
  {
   "cell_type": "markdown",
   "id": "ee15efb1",
   "metadata": {},
   "source": [
    "#### Data Exploration"
   ]
  },
  {
   "cell_type": "markdown",
   "id": "e82b8e63",
   "metadata": {},
   "source": [
    "#### Airbnb data"
   ]
  },
  {
   "cell_type": "markdown",
   "id": "bec5ab2e",
   "metadata": {},
   "source": [
    "##### Finding columns with missing values in the Airbnb dataset"
   ]
  },
  {
   "cell_type": "code",
   "execution_count": 3,
   "id": "b1069c8f",
   "metadata": {
    "scrolled": true
   },
   "outputs": [
    {
     "name": "stdout",
     "output_type": "stream",
     "text": [
      "name: 16 Missing values\n",
      "host_name: 21 Missing values\n",
      "last_review: 10052 Missing values\n",
      "reviews_per_month: 10052 Missing values\n"
     ]
    }
   ],
   "source": [
    "# Airbnb_data_New_York.csv columns with missing values\n",
    "cols_missing = Airbnb.columns[Airbnb.isna().any()].tolist()\n",
    "for col in cols_missing:\n",
    "    print(f\"{col}: {Airbnb[col].isna().sum()} Missing values\")"
   ]
  },
  {
   "cell_type": "markdown",
   "id": "99813d85",
   "metadata": {},
   "source": [
    "The findings show that there are multiple missing data points in the four columns: name, host_name, last_review, and reviews_per_month. The columns 'last review' and 'reviews_per_month' will not be useful for analysis due to the large amount of missing data.The column, 'name' contains 16 missing values and column 'host' has 21 missing values; these may not have an impact on the analysis and can be substituted with 'unkown'."
   ]
  },
  {
   "cell_type": "markdown",
   "id": "536da7d3",
   "metadata": {},
   "source": [
    "##### Replacing missing values in the columns name and host_name"
   ]
  },
  {
   "cell_type": "code",
   "execution_count": 4,
   "id": "f003d634",
   "metadata": {},
   "outputs": [],
   "source": [
    "# Replace missing values in \"name\" and \"host_name\" columns with \"unkown\"\n",
    "Airbnb[\"name\"].fillna(\"unkown\", inplace=True)\n",
    "Airbnb[\"host_name\"].fillna(\"unkown\", inplace=True)"
   ]
  },
  {
   "cell_type": "markdown",
   "id": "3ae10813",
   "metadata": {},
   "source": [
    "##### Deleting columns that are not required"
   ]
  },
  {
   "cell_type": "code",
   "execution_count": 5,
   "id": "6440deff",
   "metadata": {},
   "outputs": [],
   "source": [
    "# Remove columns\n",
    "Airbnb = Airbnb.drop(['id', 'host_id', 'last_review','reviews_per_month'], axis=1)"
   ]
  },
  {
   "cell_type": "markdown",
   "id": "15dbc431",
   "metadata": {},
   "source": [
    "Columns 'id' and 'host_id' are unique identifiers,hence are not required for analysis"
   ]
  },
  {
   "cell_type": "markdown",
   "id": "3a7b958c",
   "metadata": {},
   "source": [
    "#### Weather data"
   ]
  },
  {
   "cell_type": "markdown",
   "id": "d9d4468d",
   "metadata": {},
   "source": [
    "By looking at the data in the excel file ,it may be seen that there are rows in the dataset that may not be necessary for data analysis."
   ]
  },
  {
   "cell_type": "code",
   "execution_count": 6,
   "id": "7f37eb5c",
   "metadata": {},
   "outputs": [
    {
     "name": "stdout",
     "output_type": "stream",
     "text": [
      "           aggregation    Maximum    Minimum       Mean\n",
      "0            timestamp        NaN        NaN        NaN\n",
      "1  2016-09-01 00:00:00  19.216120   9.236119  14.438621\n",
      "2  2016-09-02 00:00:00  21.106120  11.196119  15.695287\n",
      "3  2016-09-03 00:00:00  16.056120   4.816119   7.629451\n",
      "4  2016-09-04 00:00:00  10.626119   2.486119   6.831952\n"
     ]
    }
   ],
   "source": [
    "print(Weather.head())"
   ]
  },
  {
   "cell_type": "code",
   "execution_count": 7,
   "id": "19af44b2",
   "metadata": {},
   "outputs": [
    {
     "name": "stdout",
     "output_type": "stream",
     "text": [
      "                  DATE    MaxTemp    MinTemp   MeanTemp\n",
      "1  2016-09-01 00:00:00  19.216120   9.236119  14.438621\n",
      "2  2016-09-02 00:00:00  21.106120  11.196119  15.695287\n",
      "3  2016-09-03 00:00:00  16.056120   4.816119   7.629451\n",
      "4  2016-09-04 00:00:00  10.626119   2.486119   6.831952\n",
      "5  2016-09-05 00:00:00  11.136119   4.296119   7.336952\n"
     ]
    }
   ],
   "source": [
    "# Deleting the first row\n",
    "Weather = Weather.iloc[1:]\n",
    "# Renaming header\n",
    "Weather = Weather.rename(columns={'aggregation': 'DATE','Maximum': 'MaxTemp', 'Minimum': 'MinTemp','Mean': 'MeanTemp' })\n",
    "print(Weather.head())"
   ]
  },
  {
   "cell_type": "markdown",
   "id": "c4d81c44",
   "metadata": {},
   "source": [
    "#### Property_sales_data_New_York data"
   ]
  },
  {
   "cell_type": "code",
   "execution_count": 8,
   "id": "40858688",
   "metadata": {},
   "outputs": [],
   "source": [
    "# Rename the sale date column\n",
    "Sales = Sales.rename(columns={'SALE DATE': 'DATE'})\n",
    "\n",
    "# Changing the date column to date type\n",
    "Sales['DATE'] = pds.to_datetime(Sales['DATE'])\n"
   ]
  },
  {
   "cell_type": "code",
   "execution_count": 9,
   "id": "97215c5f",
   "metadata": {},
   "outputs": [],
   "source": [
    "# Removing duplicates\n",
    "Sales = Sales.drop_duplicates(keep='last')"
   ]
  },
  {
   "cell_type": "code",
   "execution_count": 10,
   "id": "6717347b",
   "metadata": {},
   "outputs": [
    {
     "name": "stdout",
     "output_type": "stream",
     "text": [
      "        DATE    MaxTemp    MinTemp   MeanTemp\n",
      "1 2016-09-01  19.216120   9.236119  14.438621\n",
      "2 2016-09-02  21.106120  11.196119  15.695287\n",
      "3 2016-09-03  16.056120   4.816119   7.629451\n",
      "4 2016-09-04  10.626119   2.486119   6.831952\n",
      "5 2016-09-05  11.136119   4.296119   7.336952\n"
     ]
    }
   ],
   "source": [
    "# Changing the date column in the Weather dataset to date type\n",
    "Weather['DATE'] = pds.to_datetime(Weather['DATE'])\n",
    "\n",
    "print(Weather.head())"
   ]
  },
  {
   "cell_type": "markdown",
   "id": "f9cebcfe",
   "metadata": {},
   "source": [
    "#### Data Analysis"
   ]
  },
  {
   "cell_type": "markdown",
   "id": "f3177beb",
   "metadata": {},
   "source": [
    "#### 1. Present some of the key findings of the datasets above. "
   ]
  },
  {
   "cell_type": "markdown",
   "id": "1a7a29e7",
   "metadata": {},
   "source": [
    "#### 1(a).\tHow many properties are sold with zero price? "
   ]
  },
  {
   "cell_type": "code",
   "execution_count": 11,
   "id": "c3abf9f9",
   "metadata": {},
   "outputs": [
    {
     "data": {
      "text/plain": [
       "11"
      ]
     },
     "execution_count": 11,
     "metadata": {},
     "output_type": "execute_result"
    }
   ],
   "source": [
    "#change the data type of price column to numerical values\n",
    "Airbnb['price'] = pds.to_numeric(Airbnb['price'], errors='coerce')\n",
    "\n",
    "properties_zeroprice = Airbnb[Airbnb['price'] == 0]\n",
    "\n",
    "properties_zeroprice.count()[0]"
   ]
  },
  {
   "cell_type": "markdown",
   "id": "37ff066d",
   "metadata": {},
   "source": [
    "#### 1(b). What is the average price for each neighborhood to rent an Airbnb apartment?"
   ]
  },
  {
   "cell_type": "code",
   "execution_count": 12,
   "id": "6c24c956",
   "metadata": {},
   "outputs": [
    {
     "name": "stdout",
     "output_type": "stream",
     "text": [
      "Average price by neighbourhood:\n",
      " neighbourhood\n",
      "Fort Wadsworth    800.000000\n",
      "Woodrow           700.000000\n",
      "Tribeca           490.638418\n",
      "Sea Gate          487.857143\n",
      "Riverdale         442.090909\n",
      "                     ...    \n",
      "New Dorp           57.000000\n",
      "Soundview          53.466667\n",
      "Tremont            51.545455\n",
      "Hunts Point        50.500000\n",
      "Bull's Head        47.333333\n",
      "Name: price, Length: 221, dtype: float64\n"
     ]
    }
   ],
   "source": [
    "# Group the data by neighbourhood\n",
    "by_neighbourhood = Airbnb.groupby('neighbourhood')\n",
    "\n",
    "# Calculate the average price for each neighbourhood\n",
    "avg_price_by_neighbourhood = by_neighbourhood['price'].mean()\n",
    "\n",
    "print(\"Average price by neighbourhood:\\n\", avg_price_by_neighbourhood.sort_values(ascending=False))"
   ]
  },
  {
   "cell_type": "markdown",
   "id": "b80a35d2",
   "metadata": {},
   "source": [
    "We can also have a broader view by calculating average price by the neighbouthood group as seen below."
   ]
  },
  {
   "cell_type": "code",
   "execution_count": 13,
   "id": "e19cafe7",
   "metadata": {},
   "outputs": [
    {
     "name": "stdout",
     "output_type": "stream",
     "text": [
      "Average price by neighbourhoodgroup:\n",
      " neighbourhood_group\n",
      "Manhattan        196.872305\n",
      "Brooklyn         124.383207\n",
      "Staten Island    114.812332\n",
      "Queens            99.517649\n",
      "Bronx             87.496792\n",
      "Name: price, dtype: float64\n"
     ]
    }
   ],
   "source": [
    "# Group the data by neighbourhood_group\n",
    "by_neighbourhoodgroup = Airbnb.groupby('neighbourhood_group')\n",
    "\n",
    "# Calculate the average price for each neighbourhood\n",
    "avg_price_by_neighbourhoodgroup = by_neighbourhoodgroup['price'].mean()\n",
    "\n",
    "print(\"Average price by neighbourhoodgroup:\\n\", avg_price_by_neighbourhoodgroup.sort_values(ascending=False))"
   ]
  },
  {
   "cell_type": "code",
   "execution_count": 14,
   "id": "524c1d62",
   "metadata": {},
   "outputs": [
    {
     "data": {
      "text/plain": [
       "Text(0, 0.5, 'Average Price')"
      ]
     },
     "execution_count": 14,
     "metadata": {},
     "output_type": "execute_result"
    },
    {
     "data": {
      "image/png": "[encoded data removed]",
      "text/plain": [
       "<Figure size 432x288 with 1 Axes>"
      ]
     },
     "metadata": {
      "needs_background": "light"
     },
     "output_type": "display_data"
    }
   ],
   "source": [
    "# Plotting a bar chart\n",
    "import seaborn as sns\n",
    "import matplotlib.pyplot as plt\n",
    "plt.bar(avg_price_by_neighbourhoodgroup.index, avg_price_by_neighbourhoodgroup)\n",
    "plt.xticks(rotation=90)\n",
    "plt.title('Average Price by Neighbourhood Group')\n",
    "plt.xlabel('Neighbourhood Group')\n",
    "plt.ylabel('Average Price')"
   ]
  },
  {
   "cell_type": "markdown",
   "id": "1edf4155",
   "metadata": {},
   "source": [
    "#### 1(c).\tWhat are the number of sales of properties in each neighborhood in NY?"
   ]
  },
  {
   "cell_type": "code",
   "execution_count": 24,
   "id": "8a4608bb",
   "metadata": {},
   "outputs": [
    {
     "name": "stdout",
     "output_type": "stream",
     "text": [
      "Number of property sales by neighbourhood:\n",
      "       neighbourhood  price\n",
      "0           Allerton     42\n",
      "1      Arden Heights      4\n",
      "2           Arrochar     21\n",
      "3            Arverne     77\n",
      "4            Astoria    900\n",
      "..               ...    ...\n",
      "216  Windsor Terrace    157\n",
      "217        Woodhaven     88\n",
      "218         Woodlawn     11\n",
      "219          Woodrow      1\n",
      "220         Woodside    235\n",
      "\n",
      "[221 rows x 2 columns]\n"
     ]
    }
   ],
   "source": [
    "numofsales_by_neighbourhood = Airbnb.groupby('neighbourhood')['price'].count().reset_index()\n",
    "print('Number of property sales by neighbourhood:')\n",
    "print(numofsales_by_neighbourhood)"
   ]
  },
  {
   "cell_type": "code",
   "execution_count": 16,
   "id": "b3fe2a91",
   "metadata": {},
   "outputs": [
    {
     "name": "stdout",
     "output_type": "stream",
     "text": [
      "Williamsburg          3920\n",
      "Bedford-Stuyvesant    3714\n",
      "Harlem                2658\n",
      "Bushwick              2465\n",
      "Upper West Side       1971\n",
      "                      ... \n",
      "Fort Wadsworth           1\n",
      "Richmondtown             1\n",
      "New Dorp                 1\n",
      "Rossville                1\n",
      "Willowbrook              1\n",
      "Name: neighbourhood, Length: 221, dtype: int64\n"
     ]
    }
   ],
   "source": [
    "numofsales_by_neighbourhood = Airbnb['neighbourhood'].value_counts()\n",
    "print(numofsales_by_neighbourhood)"
   ]
  },
  {
   "cell_type": "markdown",
   "id": "659a068f",
   "metadata": {},
   "source": [
    "#### Number of sales of properties in each neighbourhood_group in NY"
   ]
  },
  {
   "cell_type": "code",
   "execution_count": 22,
   "id": "0cde660e",
   "metadata": {},
   "outputs": [
    {
     "name": "stdout",
     "output_type": "stream",
     "text": [
      "Manhattan        21661\n",
      "Brooklyn         20104\n",
      "Queens            5666\n",
      "Bronx             1091\n",
      "Staten Island      373\n",
      "Name: neighbourhood_group, dtype: int64\n"
     ]
    }
   ],
   "source": [
    "numofsales_by_neighbourhoodgroup = Airbnb['neighbourhood_group'].value_counts()\n",
    "print(numofsales_by_neighbourhoodgroup)"
   ]
  },
  {
   "cell_type": "code",
   "execution_count": 23,
   "id": "2e6b918b",
   "metadata": {},
   "outputs": [
    {
     "data": {
      "image/png": "[encoded data removed]",
      "text/plain": [
       "<Figure size 432x288 with 1 Axes>"
      ]
     },
     "metadata": {
      "needs_background": "light"
     },
     "output_type": "display_data"
    }
   ],
   "source": [
    "# Plotting a bar chart\n",
    "plt.bar(numofsales_by_neighbourhoodgroup.index, numofsales_by_neighbourhoodgroup.sort_values(ascending=False))\n",
    "plt.xticks(rotation=90)\n",
    "plt.title('Sale Count by Neighbourhood Group')\n",
    "plt.xlabel('Neighbourhood Group')\n",
    "plt.ylabel('Count')\n",
    "plt.show()"
   ]
  },
  {
   "cell_type": "markdown",
   "id": "564665d2",
   "metadata": {},
   "source": [
    "#### 1(d). Are sales of properties in NY impacted by the weather temperatures?"
   ]
  },
  {
   "cell_type": "markdown",
   "id": "712ac43a",
   "metadata": {},
   "source": [
    "#### Merging all three datasets"
   ]
  },
  {
   "cell_type": "code",
   "execution_count": 51,
   "id": "64aeb107",
   "metadata": {},
   "outputs": [
    {
     "name": "stdout",
     "output_type": "stream",
     "text": [
      "   Unnamed: 0  BOROUGH   NEIGHBORHOOD  \\\n",
      "0           4        1  ALPHABET CITY   \n",
      "\n",
      "                       BUILDING CLASS CATEGORY TAX CLASS AT PRESENT  BLOCK  \\\n",
      "0  07 RENTALS - WALKUP APARTMENTS                                2A    392   \n",
      "\n",
      "   LOT EASE-MENT BUILDING CLASS AT PRESENT       ADDRESS  ...  \\\n",
      "0    6                                  C2  153 AVENUE B  ...   \n",
      "\n",
      "  LAND SQUARE FEET  GROSS SQUARE FEET  YEAR BUILT  TAX CLASS AT TIME OF SALE  \\\n",
      "0             1633               6440        1900                          2   \n",
      "\n",
      "   BUILDING CLASS AT TIME OF SALE SALE PRICE       DATE    MaxTemp   MinTemp  \\\n",
      "0                              C2    6625000 2017-07-19  15.606119  6.616119   \n",
      "\n",
      "    MeanTemp  \n",
      "0  11.567784  \n",
      "\n",
      "[1 rows x 25 columns]\n"
     ]
    }
   ],
   "source": [
    "# Merge 'Sales' and 'Weather' data\n",
    "SalesnWeather = pds.merge(Sales, Weather, on='DATE')\n",
    "print(SalesnWeather.head(1))"
   ]
  },
  {
   "cell_type": "code",
   "execution_count": 52,
   "id": "0addb0ab",
   "metadata": {},
   "outputs": [
    {
     "name": "stdout",
     "output_type": "stream",
     "text": [
      "                                 name host_name neighbourhood_group  \\\n",
      "0  Clean & quiet apt home by the park      John            Brooklyn   \n",
      "\n",
      "  NEIGHBORHOOD  latitude  longitude     room_type  price  minimum_nights  \\\n",
      "0   Kensington  40.64749  -73.97237  Private room    149               1   \n",
      "\n",
      "   number_of_reviews  calculated_host_listings_count  availability_365  \n",
      "0                  9                               6               365  \n"
     ]
    }
   ],
   "source": [
    "Airbnb = Airbnb.rename(columns={'neighbourhood':'NEIGHBORHOOD'})\n",
    "print(Airbnb.head(1))"
   ]
  },
  {
   "cell_type": "code",
   "execution_count": 53,
   "id": "ae614377",
   "metadata": {},
   "outputs": [],
   "source": [
    "# Change all the values in column 'neighnourhood'  to uppercase\n",
    "Airbnb['NEIGHBORHOOD'] = Airbnb['NEIGHBORHOOD'].str.upper()"
   ]
  },
  {
   "cell_type": "code",
   "execution_count": 54,
   "id": "9ef5efa1",
   "metadata": {},
   "outputs": [
    {
     "name": "stdout",
     "output_type": "stream",
     "text": [
      "                                 name host_name neighbourhood_group  \\\n",
      "0  Clean & quiet apt home by the park      John            Brooklyn   \n",
      "\n",
      "  NEIGHBORHOOD  latitude  longitude     room_type  price  minimum_nights  \\\n",
      "0   KENSINGTON  40.64749  -73.97237  Private room    149               1   \n",
      "\n",
      "   number_of_reviews  ...  LAND SQUARE FEET  GROSS SQUARE FEET  YEAR BUILT  \\\n",
      "0                  9  ...             14309               1960        1972   \n",
      "\n",
      "   TAX CLASS AT TIME OF SALE BUILDING CLASS AT TIME OF SALE SALE PRICE  \\\n",
      "0                          4                             G5    5625000   \n",
      "\n",
      "        DATE    MaxTemp   MinTemp   MeanTemp  \n",
      "0 2017-07-19  15.606119  6.616119  11.567784  \n",
      "\n",
      "[1 rows x 36 columns]\n"
     ]
    }
   ],
   "source": [
    "# Merge 'Airbnb' and 'SalesnWeather' data\n",
    "mergedata = pds.merge(Airbnb, SalesnWeather, on='NEIGHBORHOOD')\n",
    "print(mergedata.head(1))"
   ]
  },
  {
   "cell_type": "code",
   "execution_count": 55,
   "id": "6a487205",
   "metadata": {},
   "outputs": [
    {
     "data": {
      "text/html": [
       "<div>\n",
       "<style scoped>\n",
       "    .dataframe tbody tr th:only-of-type {\n",
       "        vertical-align: middle;\n",
       "    }\n",
       "\n",
       "    .dataframe tbody tr th {\n",
       "        vertical-align: top;\n",
       "    }\n",
       "\n",
       "    .dataframe thead th {\n",
       "        text-align: right;\n",
       "    }\n",
       "</style>\n",
       "<table border=\"1\" class=\"dataframe\">\n",
       "  <thead>\n",
       "    <tr style=\"text-align: right;\">\n",
       "      <th></th>\n",
       "      <th>price</th>\n",
       "      <th>MeanTemp</th>\n",
       "    </tr>\n",
       "  </thead>\n",
       "  <tbody>\n",
       "    <tr>\n",
       "      <th>price</th>\n",
       "      <td>1.000000</td>\n",
       "      <td>-0.000425</td>\n",
       "    </tr>\n",
       "    <tr>\n",
       "      <th>MeanTemp</th>\n",
       "      <td>-0.000425</td>\n",
       "      <td>1.000000</td>\n",
       "    </tr>\n",
       "  </tbody>\n",
       "</table>\n",
       "</div>"
      ],
      "text/plain": [
       "             price  MeanTemp\n",
       "price     1.000000 -0.000425\n",
       "MeanTemp -0.000425  1.000000"
      ]
     },
     "execution_count": 55,
     "metadata": {},
     "output_type": "execute_result"
    }
   ],
   "source": [
    "corr = mergedata[['price', 'MeanTemp']].corr()\n",
    "corr"
   ]
  },
  {
   "cell_type": "code",
   "execution_count": 56,
   "id": "dfe70f14",
   "metadata": {},
   "outputs": [
    {
     "name": "stdout",
     "output_type": "stream",
     "text": [
      "Correlation between price and average temperature: -0.0004251980896732046\n"
     ]
    }
   ],
   "source": [
    "#Correlation between sale price and average temperature\n",
    "correlation = mergedata['price'].corr(mergedata['MeanTemp'])\n",
    "print(f'Correlation between price and average temperature: {correlation}')"
   ]
  },
  {
   "cell_type": "markdown",
   "id": "f1e3b9b8",
   "metadata": {},
   "source": [
    "\n",
    "#### 2. If you were supposed to buy an apartment in New York, what would be your approach to find the best investment if you plan to use it for Airbnb?"
   ]
  },
  {
   "cell_type": "markdown",
   "id": "837846be",
   "metadata": {},
   "source": [
    "Below are steps involved in my approach to find the best investment to buy an apartment in NY and use it for an Airbnb:\n",
    "\n",
    "1.Budget: Determine your investment limit, including property costs, renovations, and ongoing expenses.\n",
    "\n",
    "2.Research: Identify tourist-friendly neighborhoods with demand for short-term rentals.\n",
    "\n",
    "3.Regulations: Understand local Airbnb regulations and legal requirements.\n",
    "\n",
    "4.Profitability: Focus on areas with higher Airbnb rates than long-term rentals.\n",
    "\n",
    "5.Agent: Engage a local real estate agent experienced in Airbnb investments.\n",
    "\n",
    "6.Property Features: Seek properties near attractions, with good access and layout.\n",
    "\n",
    "7.Condition: Assess property condition and potential renovation costs.\n",
    "\n",
    "8.ROI: Calculate projected return on investment considering income and expenses.\n",
    "\n",
    "9.Financials: Review property taxes, HOA fees, and insurance costs.\n",
    "\n",
    "10.Building Rules: Check for building restrictions on short-term rentals.\n",
    "\n",
    "11.Management: Decide on self-management or hiring a property management company.\n",
    "\n",
    "12.Legal and Tax: Consult legal and tax professionals for proper structuring.\n",
    "\n",
    "13.Due Diligence: Conduct inspections, title searches, and contract reviews.\n",
    "\n",
    "14.Negotiate: Work with the agent to negotiate a favorable purchase.\n",
    "\n",
    "15.Listing: Create an attractive Airbnb listing for a great guest experience.\n",
    "\n",
    "Lastly, it is important to stay adaptable and informed about market trends for a successful investment."
   ]
  }
 ],
 "metadata": {
  "kernelspec": {
   "display_name": "Python 3 (ipykernel)",
   "language": "python",
   "name": "python3"
  },
  "language_info": {
   "codemirror_mode": {
    "name": "ipython",
    "version": 3
   },
   "file_extension": ".py",
   "mimetype": "text/x-python",
   "name": "python",
   "nbconvert_exporter": "python",
   "pygments_lexer": "ipython3",
   "version": "3.9.7"
  }
 },
 "nbformat": 4,
 "nbformat_minor": 5
}
